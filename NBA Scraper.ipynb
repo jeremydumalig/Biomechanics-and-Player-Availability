{
 "cells": [
  {
   "cell_type": "code",
   "execution_count": 1,
   "metadata": {},
   "outputs": [],
   "source": [
    "from selenium import webdriver\n",
    "from webdriver_manager.chrome import ChromeDriverManager\n",
    "from selenium.webdriver.chrome.service import Service\n",
    "from bs4 import BeautifulSoup\n",
    "import numpy as np\n",
    "import pandas as pd"
   ]
  },
  {
   "cell_type": "code",
   "execution_count": 2,
   "metadata": {},
   "outputs": [],
   "source": [
    "def get_headers(per_game_table):\n",
    "    table_head = per_game_table.find(\"thead\")\n",
    "    headers = table_head.find_all(\"th\")\n",
    "\n",
    "    column_names = []\n",
    "    for i in headers:\n",
    "        column_names.append(i.text)\n",
    "\n",
    "    return [i.text for i in headers]\n",
    "\n",
    "def get_cleaned_rows(per_game_table):\n",
    "    table_body = per_game_table.find(\"tbody\")\n",
    "    rows = table_body.find_all(\"tr\")\n",
    "    \n",
    "    def clean_row(row):\n",
    "        first_row_elements = row.find_all(\"td\")\n",
    "        first_row_elements = [row.find(\"th\").text] + [i.text for i in first_row_elements]\n",
    "\n",
    "        return first_row_elements\n",
    "    \n",
    "    return [clean_row(i) for i in rows]"
   ]
  },
  {
   "cell_type": "code",
   "execution_count": 3,
   "metadata": {},
   "outputs": [],
   "source": [
    "def scrape_url(driver, url):\n",
    "    driver.get(url)\n",
    "    soup = BeautifulSoup(driver.page_source, 'html.parser')\n",
    "    \n",
    "    per_game_table = soup.find(\"table\", {\"id\" : \"totals_stats\"})\n",
    "    \n",
    "    column_names = get_headers( per_game_table )\n",
    "    cleaned_rows = get_cleaned_rows( per_game_table )\n",
    "        \n",
    "    return pd.DataFrame(cleaned_rows, columns=column_names)"
   ]
  },
  {
   "cell_type": "code",
   "execution_count": 4,
   "metadata": {},
   "outputs": [
    {
     "name": "stdout",
     "output_type": "stream",
     "text": [
      "\n"
     ]
    },
    {
     "name": "stderr",
     "output_type": "stream",
     "text": [
      "[WDM] - ====== WebDriver manager ======\n",
      "[WDM] - Current google-chrome version is 113.0.5672\n",
      "[WDM] - Get LATEST chromedriver version for 113.0.5672 google-chrome\n",
      "[WDM] - Driver [/Users/jeremydumalig/.wdm/drivers/chromedriver/mac64/113.0.5672.63/chromedriver] found in cache\n"
     ]
    }
   ],
   "source": [
    "driver = webdriver.Chrome(service=Service(ChromeDriverManager().install()))\n",
    "\n",
    "dataframes = []\n",
    "for year in list(range(2007, 2014+1)):\n",
    "    url = \"https://www.basketball-reference.com/leagues/NBA_\" + str(year) + \"_totals.html\"\n",
    "    \n",
    "    df = scrape_url(driver, url)\n",
    "    df['Season'] = year\n",
    "    \n",
    "    dataframes.append(df)\n",
    "\n",
    "driver.quit()"
   ]
  },
  {
   "cell_type": "code",
   "execution_count": 5,
   "metadata": {},
   "outputs": [],
   "source": [
    "# Add column to indicate games played in prior season\n",
    "add_lastGP = []\n",
    "for i in range(1, len(dataframes)):\n",
    "    add_lastGP.append(pd.merge(dataframes[i], \n",
    "                              dataframes[i-1][['Player', 'G', 'MP']],\n",
    "                              on='Player', \n",
    "                              how='inner'))"
   ]
  },
  {
   "cell_type": "code",
   "execution_count": 6,
   "metadata": {},
   "outputs": [],
   "source": [
    "nba = pd.concat(add_lastGP)\n",
    "\n",
    "nba['MP'] = nba['MP_x'].astype(float) / nba['G_x'].astype(float)\n",
    "nba['lastMP'] = nba['MP_y'].astype(float) / nba['G_y'].astype(float)\n",
    "\n",
    "# Scale GP for 2011-12 lockout season (only 66 games played)\n",
    "nba['G_x'] = np.where(nba['Season'] == 2012, nba['G_x'].astype(float) * (82/66), nba['G_x'])\n",
    "nba['G_y'] = np.where(nba['Season'] == 2013, nba['G_y'].astype(float) * (82/66), nba['G_y'])\n",
    "\n",
    "nba = nba[['Player', 'Tm', 'Age', 'G_y', 'G_x', 'lastMP', 'MP', 'Season']]\n",
    "nba.columns = ['Player', 'Team', 'age', 'lastGP', 'GP', 'lastMP', 'MP', 'Season']\n",
    "\n",
    "nba['tech'] = nba.Team.isin(['SAS', 'DAL', 'HOU', 'NYK']).astype(int)\n",
    "nba['time'] = (nba.Season >= 2014).astype(int)\n",
    "\n",
    "nba.to_csv(\"nba_wearables.csv\")"
   ]
  }
 ],
 "metadata": {
  "kernelspec": {
   "display_name": "Python 3 (ipykernel)",
   "language": "python",
   "name": "python3"
  },
  "language_info": {
   "codemirror_mode": {
    "name": "ipython",
    "version": 3
   },
   "file_extension": ".py",
   "mimetype": "text/x-python",
   "name": "python",
   "nbconvert_exporter": "python",
   "pygments_lexer": "ipython3",
   "version": "3.9.13"
  }
 },
 "nbformat": 4,
 "nbformat_minor": 4
}
